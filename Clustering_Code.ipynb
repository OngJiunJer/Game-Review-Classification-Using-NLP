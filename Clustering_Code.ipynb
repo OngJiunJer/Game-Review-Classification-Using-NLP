{
 "cells": [
  {
   "cell_type": "markdown",
   "metadata": {},
   "source": [
    "# Data Understanding"
   ]
  },
  {
   "cell_type": "markdown",
   "metadata": {},
   "source": [
    "### Import Dataset"
   ]
  },
  {
   "cell_type": "code",
   "execution_count": 2,
   "metadata": {},
   "outputs": [],
   "source": [
    "# Import Linraries\n",
    "import pandas as pd"
   ]
  },
  {
   "cell_type": "code",
   "execution_count": 21,
   "metadata": {},
   "outputs": [],
   "source": [
    "# Import Data\n",
    "df = pd.read_csv(r\"c:\\Users\\jiunj\\Documents\\Campus Document\\Year 3\\FYP\\FYP NULL\\Dataset\\SteamReview_Backup.csv\")"
   ]
  },
  {
   "cell_type": "code",
   "execution_count": 52,
   "metadata": {},
   "outputs": [],
   "source": [
    "df_overall = pd.read_csv(r\"c:\\Users\\jiunj\\Documents\\Campus Document\\Year 3\\FYP\\FYP NULL\\Dataset\\player_reviews_100K_preprocessed_Set1_Half.csv\")"
   ]
  },
  {
   "cell_type": "markdown",
   "metadata": {},
   "source": [
    "### Check Data Type & Column Name"
   ]
  },
  {
   "cell_type": "code",
   "execution_count": 41,
   "metadata": {},
   "outputs": [
    {
     "name": "stdout",
     "output_type": "stream",
     "text": [
      "review_text    object\n",
      "dtype: object\n"
     ]
    }
   ],
   "source": [
    "# Check data types of each column\n",
    "print(df.dtypes)"
   ]
  },
  {
   "cell_type": "markdown",
   "metadata": {},
   "source": [
    "### Check The Data for Each Column"
   ]
  },
  {
   "cell_type": "code",
   "execution_count": 21,
   "metadata": {},
   "outputs": [
    {
     "name": "stdout",
     "output_type": "stream",
     "text": [
      "<bound method NDFrame.head of          app_id        app_name  \\\n",
      "0            10  Counter-Strike   \n",
      "1            10  Counter-Strike   \n",
      "2            10  Counter-Strike   \n",
      "3            10  Counter-Strike   \n",
      "4            10  Counter-Strike   \n",
      "...         ...             ...   \n",
      "6417101   99910  Puzzle Pirates   \n",
      "6417102   99910  Puzzle Pirates   \n",
      "6417103   99910  Puzzle Pirates   \n",
      "6417104   99910  Puzzle Pirates   \n",
      "6417105   99910  Puzzle Pirates   \n",
      "\n",
      "                                               review_text  review_score  \\\n",
      "0                                          Ruined my life.             1   \n",
      "1        This will be more of a ''my experience with th...             1   \n",
      "2                            This game saved my virginity.             1   \n",
      "3        • Do you like original games? • Do you like ga...             1   \n",
      "4                 Easy to learn, hard to master.                       1   \n",
      "...                                                    ...           ...   \n",
      "6417101  I really ove this game but it needs somethings...            -1   \n",
      "6417102  Used to play Puzzel Pirates 'way back when', b...            -1   \n",
      "6417103  This game was aright, though a bit annoying. W...            -1   \n",
      "6417104  I had a nice review to recommend this game, bu...            -1   \n",
      "6417105  The puzzles in this game are fun, but you have...            -1   \n",
      "\n",
      "         review_votes  \n",
      "0                   0  \n",
      "1                   1  \n",
      "2                   0  \n",
      "3                   0  \n",
      "4                   1  \n",
      "...               ...  \n",
      "6417101             0  \n",
      "6417102             0  \n",
      "6417103             0  \n",
      "6417104             0  \n",
      "6417105             0  \n",
      "\n",
      "[6417106 rows x 5 columns]>\n"
     ]
    }
   ],
   "source": [
    "# Check column data values\n",
    "print(df.head)"
   ]
  },
  {
   "cell_type": "markdown",
   "metadata": {},
   "source": [
    "### Check Missing Data"
   ]
  },
  {
   "cell_type": "code",
   "execution_count": 22,
   "metadata": {},
   "outputs": [
    {
     "name": "stdout",
     "output_type": "stream",
     "text": [
      "app_id               0\n",
      "app_name        183234\n",
      "review_text       7305\n",
      "review_score         0\n",
      "review_votes         0\n",
      "dtype: int64\n"
     ]
    }
   ],
   "source": [
    "#Check Null Value For df\n",
    "print(df.isnull().sum())"
   ]
  },
  {
   "cell_type": "markdown",
   "metadata": {},
   "source": [
    "### Check Duplicate"
   ]
  },
  {
   "cell_type": "code",
   "execution_count": 23,
   "metadata": {},
   "outputs": [
    {
     "name": "stdout",
     "output_type": "stream",
     "text": [
      "Total duplicate value: 1796102\n"
     ]
    }
   ],
   "source": [
    "#Check duplicate value\n",
    "print(\"Total duplicate value: {}\".format(df.duplicated().sum()))"
   ]
  },
  {
   "cell_type": "markdown",
   "metadata": {},
   "source": [
    "### Check Steam Review Length"
   ]
  },
  {
   "cell_type": "code",
   "execution_count": null,
   "metadata": {},
   "outputs": [],
   "source": [
    "#Install Library\n",
    "!pip install matplotlib"
   ]
  },
  {
   "cell_type": "code",
   "execution_count": 25,
   "metadata": {},
   "outputs": [],
   "source": [
    "import matplotlib.pyplot as plt"
   ]
  },
  {
   "cell_type": "code",
   "execution_count": 26,
   "metadata": {},
   "outputs": [
    {
     "data": {
      "image/png": "[encoded data removed]",
      "text/plain": [
       "<Figure size 640x480 with 1 Axes>"
      ]
     },
     "metadata": {},
     "output_type": "display_data"
    }
   ],
   "source": [
    "#Check the Distribution of Steam Review Length\n",
    "# Calculate the review_length length\n",
    "df['review_text'] = df['review_text'].astype(str)\n",
    "df['review_length'] = df['review_text'].apply(len)\n",
    "\n",
    "# Plot a histogram for player review length for teraria review\n",
    "plt.hist(df['review_length'], bins=100, edgecolor='black') # Set the display of the plot\n",
    "plt.title('Distribution of Player Review Lengths') # Set title\n",
    "plt.xlabel('Review Length (Number of Characters)') # Set x-axis title\n",
    "plt.ylabel('Frequency') # Set y-axis title\n",
    "plt.xlim(0, 3200)  # Adjust the range as needed\n",
    "plt.show()"
   ]
  },
  {
   "cell_type": "markdown",
   "metadata": {},
   "source": [
    "# Data Pre-Processing"
   ]
  },
  {
   "cell_type": "markdown",
   "metadata": {},
   "source": [
    "### Remove Missing Data"
   ]
  },
  {
   "cell_type": "code",
   "execution_count": 22,
   "metadata": {},
   "outputs": [
    {
     "name": "stdout",
     "output_type": "stream",
     "text": [
      "Null Value:\n",
      "app_id          0\n",
      "app_name        0\n",
      "review_text     0\n",
      "review_score    0\n",
      "review_votes    0\n",
      "dtype: int64\n"
     ]
    }
   ],
   "source": [
    "#Remove null value\n",
    "df = df.dropna()\n",
    "\n",
    "#Check null value\n",
    "print(\"Null Value:\")\n",
    "print(df.isnull().sum())"
   ]
  },
  {
   "cell_type": "markdown",
   "metadata": {},
   "source": [
    "### Remove Duplicate Data"
   ]
  },
  {
   "cell_type": "code",
   "execution_count": 23,
   "metadata": {},
   "outputs": [
    {
     "name": "stdout",
     "output_type": "stream",
     "text": [
      "Total duplicate value: 0\n"
     ]
    }
   ],
   "source": [
    "# Remove duplicate data\n",
    "df = df.drop_duplicates()\n",
    "print(\"Total duplicate value: {}\".format(df.duplicated().sum()))"
   ]
  },
  {
   "cell_type": "markdown",
   "metadata": {},
   "source": [
    "### Convert Player Review to Lowercase"
   ]
  },
  {
   "cell_type": "code",
   "execution_count": 24,
   "metadata": {},
   "outputs": [
    {
     "name": "stdout",
     "output_type": "stream",
     "text": [
      "0                                      ruined my life.\n",
      "1    this will be more of a ''my experience with th...\n",
      "2                        this game saved my virginity.\n",
      "3    • do you like original games? • do you like ga...\n",
      "4             easy to learn, hard to master.          \n",
      "Name: review_text, dtype: object\n"
     ]
    }
   ],
   "source": [
    "#Convert all the review text into lower case \n",
    "df['review_text'] = df['review_text'].str.lower()\n",
    "\n",
    "#Check the result\n",
    "print(df['review_text'].head())"
   ]
  },
  {
   "cell_type": "markdown",
   "metadata": {},
   "source": [
    "### Remove Unwanted Columns"
   ]
  },
  {
   "cell_type": "code",
   "execution_count": 25,
   "metadata": {},
   "outputs": [],
   "source": [
    "#Remove unwanted column\n",
    "df = df[['app_name', 'review_text', 'review_score']]"
   ]
  },
  {
   "cell_type": "markdown",
   "metadata": {},
   "source": [
    "### Remove Extra Whitespace"
   ]
  },
  {
   "cell_type": "code",
   "execution_count": 26,
   "metadata": {},
   "outputs": [],
   "source": [
    "df['review_text'] = df['review_text'].str.strip()"
   ]
  },
  {
   "cell_type": "markdown",
   "metadata": {},
   "source": [
    "### Filter Review Length Between 20-150"
   ]
  },
  {
   "cell_type": "code",
   "execution_count": 27,
   "metadata": {},
   "outputs": [],
   "source": [
    "#Create new column that calculate the review length\n",
    "df['review_length'] = df['review_text'].apply(len)\n",
    "\n",
    "#Filter Review Length Between 20 -150\n",
    "df = df[(df['review_length'] >= 20) & (df['review_length'] <= 150)]"
   ]
  },
  {
   "cell_type": "code",
   "execution_count": 28,
   "metadata": {},
   "outputs": [
    {
     "name": "stdout",
     "output_type": "stream",
     "text": [
      "Minimum review length: 20\n",
      "Maximum review length: 150\n"
     ]
    }
   ],
   "source": [
    "min_length = df['review_text'].str.len().min()\n",
    "max_length = df['review_text'].str.len().max()\n",
    "\n",
    "print(f\"Minimum review length: {min_length}\")\n",
    "print(f\"Maximum review length: {max_length}\")"
   ]
  },
  {
   "cell_type": "markdown",
   "metadata": {},
   "source": [
    "### Remove Numeric Data In review"
   ]
  },
  {
   "cell_type": "code",
   "execution_count": 29,
   "metadata": {},
   "outputs": [],
   "source": [
    "# Remove Numeric Data\n",
    "df['review_text'] = df['review_text'].str.replace(r'\\d+', '', regex=True)"
   ]
  },
  {
   "cell_type": "markdown",
   "metadata": {},
   "source": [
    "### Remove Emoji"
   ]
  },
  {
   "cell_type": "code",
   "execution_count": 30,
   "metadata": {},
   "outputs": [
    {
     "name": "stdout",
     "output_type": "stream",
     "text": [
      "Requirement already satisfied: emoji in c:\\users\\jiunj\\appdata\\local\\packages\\pythonsoftwarefoundation.python.3.11_qbz5n2kfra8p0\\localcache\\local-packages\\python311\\site-packages (2.14.1)Note: you may need to restart the kernel to use updated packages.\n",
      "\n"
     ]
    },
    {
     "name": "stderr",
     "output_type": "stream",
     "text": [
      "\n",
      "[notice] A new release of pip is available: 24.3.1 -> 25.0.1\n",
      "[notice] To update, run: C:\\Users\\jiunj\\AppData\\Local\\Microsoft\\WindowsApps\\PythonSoftwareFoundation.Python.3.11_qbz5n2kfra8p0\\python.exe -m pip install --upgrade pip\n"
     ]
    }
   ],
   "source": [
    "pip install emoji"
   ]
  },
  {
   "cell_type": "code",
   "execution_count": 31,
   "metadata": {},
   "outputs": [],
   "source": [
    "import emoji\n",
    "import re"
   ]
  },
  {
   "cell_type": "code",
   "execution_count": 32,
   "metadata": {},
   "outputs": [
    {
     "name": "stdout",
     "output_type": "stream",
     "text": [
      "               app_name                                        review_text  \\\n",
      "41       Counter-Strike  / would get 'fire in the hole' tattooed on my ...   \n",
      "52       Counter-Strike  -no lag -no russian guy saying ♥♥♥♥ ♥♥♥♥♥ -cla...   \n",
      "91       Counter-Strike  the st and best game i ever played in my entir...   \n",
      "197      Counter-Strike  ♥♥♥♥ing nostalgic m. best sound n/a. best grap...   \n",
      "286      Counter-Strike                        mother♥♥♥♥ing ♥♥♥♥♥♥♥t game   \n",
      "...                 ...                                                ...   \n",
      "6417040  Puzzle Pirates  hitting your face against a brick wall covered...   \n",
      "6417042  Puzzle Pirates  worst game ♥♥♥♥ing ever anyone who plays this ...   \n",
      "6417065  Puzzle Pirates  if you have a hankerin for a pc game that abso...   \n",
      "6417066  Puzzle Pirates     ♥♥♥♥ this gay ♥♥♥♥ piece of ♥♥♥♥ nigger ♥♥♥♥♥♥   \n",
      "6417071  Puzzle Pirates  gaming at its finest............. if you like ...   \n",
      "\n",
      "         review_score  review_length  \n",
      "41                  1             62  \n",
      "52                  1            139  \n",
      "91                  1             89  \n",
      "197                 1            123  \n",
      "286                 1             27  \n",
      "...               ...            ...  \n",
      "6417040            -1            112  \n",
      "6417042            -1             85  \n",
      "6417065            -1            127  \n",
      "6417066            -1             46  \n",
      "6417071            -1            112  \n",
      "\n",
      "[101081 rows x 4 columns]\n"
     ]
    }
   ],
   "source": [
    "# Function to check if a review contains emojis\n",
    "def contains_emoji(text):\n",
    "    return any(char in emoji.EMOJI_DATA for char in text)\n",
    "\n",
    "# Filter reviews that STILL contain emojis\n",
    "df_with_emoji = df[df['review_text'].apply(contains_emoji)]\n",
    "\n",
    "# Display reviews with emojis\n",
    "print(df_with_emoji)\n"
   ]
  },
  {
   "cell_type": "code",
   "execution_count": 33,
   "metadata": {},
   "outputs": [],
   "source": [
    "# Function to remove emojis, including ZWJ sequences\n",
    "def remove_emojis(text):\n",
    "    emoji_pattern = re.compile(\"[\\U0001F600-\\U0001F64F\\U0001F300-\\U0001F5FF\\U0001F680-\\U0001F6FF\\U0001F700-\\U0001F77F\\U0001F780-\\U0001F7FF\\U0001F800-\\U0001F8FF\\U0001F900-\\U0001F9FF\\U0001FA00-\\U0001FA6F\\U0001FA70-\\U0001FAFF\\U00002600-\\U000026FF\\U00002700-\\U000027BF\\U00002B50-\\U00002B55\\U0001F1E6-\\U0001F1FF]+\", flags=re.UNICODE)\n",
    "    return emoji_pattern.sub(\"\", text)\n",
    "\n",
    "# Apply to the DataFrame column\n",
    "df['review_text'] = df['review_text'].apply(remove_emojis)\n"
   ]
  },
  {
   "cell_type": "code",
   "execution_count": 34,
   "metadata": {},
   "outputs": [
    {
     "name": "stdout",
     "output_type": "stream",
     "text": [
      "                                    app_name  \\\n",
      "739                           Counter-Strike   \n",
      "8921                          Counter-Strike   \n",
      "22425    3D Ultra Minigolf Adventures Deluxe   \n",
      "24563         Call of Duty: Modern Warfare 2   \n",
      "24996         Call of Duty: Modern Warfare 2   \n",
      "...                                      ...   \n",
      "6409051                     Star Trek Online   \n",
      "6412762                         Renegade Ops   \n",
      "6412859                         Blade Kitten   \n",
      "6412985                         Blade Kitten   \n",
      "6413129                         Blade Kitten   \n",
      "\n",
      "                                               review_text  review_score  \\\n",
      "739                                   call of duty™ ripoff             1   \n",
      "8921                 officially endorsed by seung-hui cho©             1   \n",
      "22425    min of gameplay         youtube™ video:  min o...             1   \n",
      "24563           more innovative than the new call of duty®             1   \n",
      "24996      youtube™ video:  duty calls - playthrough&nbsp;             1   \n",
      "...                                                    ...           ...   \n",
      "6409051  cryptic/perfect world, pls.          youtube™ ...            -1   \n",
      "6412762  does not supports logitech cordless rumblepad™...            -1   \n",
      "6412859  here is an old guide i made for all the collec...             1   \n",
      "6412985  i made a video review to show off some of the ...             1   \n",
      "6413129  youtube™ video:  snow reviews! blade kitten&nbsp;             1   \n",
      "\n",
      "         review_length  \n",
      "739                 20  \n",
      "8921                37  \n",
      "22425               97  \n",
      "24563               42  \n",
      "24996               47  \n",
      "...                ...  \n",
      "6409051             66  \n",
      "6412762             68  \n",
      "6412859            129  \n",
      "6412985            137  \n",
      "6413129             49  \n",
      "\n",
      "[2876 rows x 4 columns]\n"
     ]
    }
   ],
   "source": [
    "# Function to check if a review contains emojis\n",
    "def contains_emoji(text):\n",
    "    return any(char in emoji.EMOJI_DATA for char in text)\n",
    "\n",
    "# Filter reviews that STILL contain emojis\n",
    "df_with_emoji = df[df['review_text'].apply(contains_emoji)]\n",
    "\n",
    "# Display reviews with emojis\n",
    "print(df_with_emoji)\n"
   ]
  },
  {
   "cell_type": "markdown",
   "metadata": {},
   "source": [
    "### Sampling 100K Review"
   ]
  },
  {
   "cell_type": "code",
   "execution_count": 35,
   "metadata": {},
   "outputs": [
    {
     "name": "stdout",
     "output_type": "stream",
     "text": [
      "                            app_name  \\\n",
      "2128278                      Outlast   \n",
      "2602588  Battlefield: Bad Company™ 2   \n",
      "1808555                     Warframe   \n",
      "526934                   Tomb Raider   \n",
      "1009296            Mark of the Ninja   \n",
      "\n",
      "                                               review_text  review_score  \\\n",
      "2128278  i suspect this game will take me some time to ...             1   \n",
      "2602588                           this is a very good game             1   \n",
      "1808555  being a ninja in space is a dream that hardly ...             1   \n",
      "526934   really great game! finished it in only  days, ...             1   \n",
      "1009296  the gameplay is awsome and i love how simple i...             1   \n",
      "\n",
      "         review_length  \n",
      "2128278            134  \n",
      "2602588             24  \n",
      "1808555            130  \n",
      "526934             132  \n",
      "1009296             90  \n"
     ]
    }
   ],
   "source": [
    "# Ramdom Sampling Data\n",
    "df_overall = df.sample(n=100000, random_state=38)\n",
    "print(df_overall.head())"
   ]
  },
  {
   "cell_type": "code",
   "execution_count": 36,
   "metadata": {},
   "outputs": [
    {
     "name": "stdout",
     "output_type": "stream",
     "text": [
      "Overall Review Shape:  (100000, 4)\n"
     ]
    }
   ],
   "source": [
    "print(\"Overall Review Shape: \", df_overall.shape)"
   ]
  },
  {
   "cell_type": "markdown",
   "metadata": {},
   "source": [
    "### Remove Special Character and Punctuation"
   ]
  },
  {
   "cell_type": "code",
   "execution_count": 37,
   "metadata": {},
   "outputs": [],
   "source": [
    "#Handle Special Characters and Punctuation\n",
    "def Remove_Special_Characters_and_Punctuation(Review):\n",
    "    Review_Removed_Special_Characters_and_Punctuation = re.sub('\\W+', ' ', Review)\n",
    "    return Review_Removed_Special_Characters_and_Punctuation\n",
    "\n",
    "#Apply the Remove_Special_Characters_and_Punctuation function\n",
    "df_overall['review_text'] = df_overall['review_text'].apply(Remove_Special_Characters_and_Punctuation)"
   ]
  },
  {
   "cell_type": "markdown",
   "metadata": {},
   "source": [
    "### Spelling Correction (SpellChecker)"
   ]
  },
  {
   "cell_type": "code",
   "execution_count": 43,
   "metadata": {},
   "outputs": [
    {
     "name": "stdout",
     "output_type": "stream",
     "text": [
      "Requirement already satisfied: pyspellchecker in c:\\users\\jiunj\\appdata\\local\\packages\\pythonsoftwarefoundation.python.3.11_qbz5n2kfra8p0\\localcache\\local-packages\\python311\\site-packages (0.8.2)\n",
      "Note: you may need to restart the kernel to use updated packages.\n"
     ]
    },
    {
     "name": "stderr",
     "output_type": "stream",
     "text": [
      "\n",
      "[notice] A new release of pip is available: 24.3.1 -> 25.0.1\n",
      "[notice] To update, run: C:\\Users\\jiunj\\AppData\\Local\\Microsoft\\WindowsApps\\PythonSoftwareFoundation.Python.3.11_qbz5n2kfra8p0\\python.exe -m pip install --upgrade pip\n"
     ]
    }
   ],
   "source": [
    "pip install pyspellchecker"
   ]
  },
  {
   "cell_type": "code",
   "execution_count": 44,
   "metadata": {},
   "outputs": [],
   "source": [
    "from spellchecker import SpellChecker"
   ]
  },
  {
   "cell_type": "code",
   "execution_count": 56,
   "metadata": {},
   "outputs": [],
   "source": [
    "df_overall['review_text'] = df_overall['review_text'].astype(str)"
   ]
  },
  {
   "cell_type": "code",
   "execution_count": 57,
   "metadata": {},
   "outputs": [],
   "source": [
    "# Initialize the SpellChecker\n",
    "spell_checker = SpellChecker()\n",
    "\n",
    "# Handle Spelling Correction\n",
    "def Check_Spelling(Review):\n",
    "    words = Review.split()  # Split sentence into words\n",
    "    corrected_words = [spell_checker.correction(word) or word for word in words]  # Correct each word\n",
    "    return \" \".join(corrected_words)  # Join words back into a sentence\n",
    "\n",
    "# Apply the Check_Spelling function\n",
    "df_overall['review_text'] = df_overall['review_text'].apply(Check_Spelling)"
   ]
  },
  {
   "cell_type": "markdown",
   "metadata": {},
   "source": [
    "### Removing Stop Words"
   ]
  },
  {
   "cell_type": "code",
   "execution_count": null,
   "metadata": {},
   "outputs": [],
   "source": [
    "import nltk\n",
    "from nltk.corpus import stopwords\n",
    "from nltk.tokenize import word_tokenize"
   ]
  },
  {
   "cell_type": "code",
   "execution_count": null,
   "metadata": {},
   "outputs": [],
   "source": [
    "#Remove stop word\n",
    "Stop_Word = set(stopwords.words('english'))\n",
    "\n",
    "def Remove_Stop_Word(Review):\n",
    "    Tokens = word_tokenize(Review)\n",
    "    Review_Removed_Stop_Word = []\n",
    "    for token in Tokens:\n",
    "        if token not in Stop_Word:\n",
    "            Review_Removed_Stop_Word.append(token)\n",
    "    return \" \".join(Review_Removed_Stop_Word)\n",
    "\n",
    "\n",
    "#Apply the Remove_Stop_Word function\n",
    "df_overall['preprocess_review_text'] = df_overall['review_text'].apply(Remove_Stop_Word)"
   ]
  },
  {
   "cell_type": "markdown",
   "metadata": {},
   "source": [
    "### Lemmatization"
   ]
  },
  {
   "cell_type": "code",
   "execution_count": null,
   "metadata": {},
   "outputs": [],
   "source": [
    "import nltk\n",
    "from nltk.stem import WordNetLemmatizer\n",
    "from nltk.corpus import wordnet"
   ]
  },
  {
   "cell_type": "code",
   "execution_count": null,
   "metadata": {},
   "outputs": [],
   "source": [
    "#Lemmatization Using WordNetLemmatizer and Pos Tag\n",
    "lemmatizer = WordNetLemmatizer()\n",
    "\n",
    "#Get Word Pos Tag Function\n",
    "def Get_Pos_Tag(word):\n",
    "    tag = nltk.pos_tag([word])\n",
    "    tag_dict = {\"J\": wordnet.ADJ,\n",
    "                \"N\": wordnet.NOUN,\n",
    "                \"V\": wordnet.VERB,\n",
    "                \"R\": wordnet.ADV}\n",
    "    Pos_Tag = tag_dict.get(tag[0][1][0].upper(), wordnet.NOUN)\n",
    "    return Pos_Tag\n",
    "    \n",
    "#Lemmatization Function\n",
    "def Lemmatization(Review):\n",
    "    Tokens = word_tokenize(Review)\n",
    "    Review_Lemmatize = []\n",
    "    for token in Tokens:\n",
    "        Review_Lemmatize.append(lemmatizer.lemmatize(token, pos = Get_Pos_Tag(token)))\n",
    "    return \" \".join(Review_Lemmatize)\n",
    "\n",
    "#Apply the Lemetization function\n",
    "df_overall['preprocess_review_text'] = df_overall['preprocess_review_text'].apply(Lemmatization)"
   ]
  },
  {
   "cell_type": "markdown",
   "metadata": {},
   "source": [
    "# Build K-Means Clustering Model"
   ]
  },
  {
   "cell_type": "markdown",
   "metadata": {},
   "source": [
    "### Import Library"
   ]
  },
  {
   "cell_type": "code",
   "execution_count": 16,
   "metadata": {},
   "outputs": [],
   "source": [
    "import matplotlib.pyplot as plt"
   ]
  },
  {
   "cell_type": "code",
   "execution_count": 17,
   "metadata": {},
   "outputs": [],
   "source": [
    "from sklearn.feature_extraction.text import TfidfVectorizer\n",
    "from sklearn.cluster import KMeans"
   ]
  },
  {
   "cell_type": "markdown",
   "metadata": {},
   "source": [
    "### Create Embow Method Function"
   ]
  },
  {
   "cell_type": "code",
   "execution_count": 18,
   "metadata": {},
   "outputs": [],
   "source": [
    "# Elbow Method Function\n",
    "def elbow_method(player_review_vec, max_k):\n",
    "    inertia = []  # To store inertia value\n",
    "    k_values = range(1, max_k + 1)\n",
    "\n",
    "    # Compute KMeans for each K value\n",
    "    for k in k_values:\n",
    "        kmeans = KMeans(n_clusters=k, random_state=42)\n",
    "        kmeans.fit(player_review_vec)\n",
    "\n",
    "        # calculate inertia\n",
    "        inertia.append(kmeans.inertia_)\n",
    "\n",
    "    # Plot the inertia results\n",
    "    plt.figure(figsize=(8, 5))\n",
    "    plt.plot(range(1, max_k + 1), inertia, marker='o')\n",
    "    plt.title('Elbow Method for Optimal K')\n",
    "    plt.xlabel('Number of Clusters (K)')\n",
    "    plt.ylabel('inertia')\n",
    "    plt.xticks(range(1, max_k + 1))\n",
    "    plt.grid(True)\n",
    "    plt.show()"
   ]
  },
  {
   "cell_type": "markdown",
   "metadata": {},
   "source": [
    "#### Tokenization"
   ]
  },
  {
   "cell_type": "code",
   "execution_count": 19,
   "metadata": {},
   "outputs": [],
   "source": [
    "# Define new variable that store the overall 100K preporcesses review text\n",
    "player_review_overall = df_overall['preprocess_review_text']\n",
    "\n",
    "# Set up the TF-IDF vextorizer\n",
    "vectorizer_overall = TfidfVectorizer()\n",
    "\n",
    "# Transfer the player review in to numeric form \n",
    "player_review_overall_vectorize = vectorizer_overall.fit_transform(player_review_overall)"
   ]
  },
  {
   "cell_type": "markdown",
   "metadata": {},
   "source": [
    "### Apply Elbow Method Function"
   ]
  },
  {
   "cell_type": "code",
   "execution_count": null,
   "metadata": {},
   "outputs": [
    {
     "data": {
      "image/png": "[encoded data removed]",
      "text/plain": [
       "<Figure size 800x500 with 1 Axes>"
      ]
     },
     "metadata": {},
     "output_type": "display_data"
    }
   ],
   "source": [
    "# Calculate optimal k for overall player review data frame.\n",
    "elbow_method(player_review_overall_vectorize, 20)   "
   ]
  },
  {
   "cell_type": "markdown",
   "metadata": {},
   "source": [
    "### Train K-Means Clustering Model"
   ]
  },
  {
   "cell_type": "code",
   "execution_count": null,
   "metadata": {},
   "outputs": [],
   "source": [
    "# Build clustering model with K-Means algorithm (Overall Review) \n",
    "k = 8\n",
    "model_overall = KMeans(n_clusters=k, init='k-means++', max_iter=1000, n_init=20)\n",
    "model_overall.fit(player_review_overall_vectorize)"
   ]
  },
  {
   "cell_type": "markdown",
   "metadata": {},
   "source": [
    "## Cluster Visualization"
   ]
  },
  {
   "cell_type": "markdown",
   "metadata": {},
   "source": [
    "### Retrive Top 10 Key Word for Each Cluster"
   ]
  },
  {
   "cell_type": "code",
   "execution_count": 17,
   "metadata": {},
   "outputs": [
    {
     "name": "stdout",
     "output_type": "stream",
     "text": [
      "Cluster centroids: \n",
      "\n",
      "Cluster 0\n",
      "like\n",
      "game\n",
      "play\n",
      "really\n",
      "fun\n",
      "good\n",
      "feel\n",
      "get\n",
      "great\n",
      "love\n",
      "-------------------\n",
      "Cluster 1\n",
      "game\n",
      "play\n",
      "get\n",
      "love\n",
      "would\n",
      "buy\n",
      "well\n",
      "amaze\n",
      "time\n",
      "make\n",
      "-------------------\n",
      "Cluster 2\n",
      "great\n",
      "game\n",
      "story\n",
      "play\n",
      "fun\n",
      "love\n",
      "recommend\n",
      "time\n",
      "gamelan\n",
      "graphic\n",
      "-------------------\n",
      "Cluster 3\n",
      "good\n",
      "game\n",
      "really\n",
      "pretty\n",
      "play\n",
      "fun\n",
      "story\n",
      "get\n",
      "time\n",
      "graphic\n",
      "-------------------\n",
      "Cluster 4\n",
      "best\n",
      "ever\n",
      "game\n",
      "one\n",
      "played\n",
      "time\n",
      "make\n",
      "play\n",
      "far\n",
      "ups\n",
      "-------------------\n",
      "Cluster 5\n",
      "awesome\n",
      "game\n",
      "play\n",
      "love\n",
      "fun\n",
      "recommend\n",
      "really\n",
      "great\n",
      "get\n",
      "story\n",
      "-------------------\n",
      "Cluster 6\n",
      "hour\n",
      "game\n",
      "play\n",
      "fun\n",
      "played\n",
      "get\n",
      "spent\n",
      "great\n",
      "many\n",
      "good\n",
      "-------------------\n",
      "Cluster 7\n",
      "fun\n",
      "game\n",
      "play\n",
      "friend\n",
      "really\n",
      "lot\n",
      "much\n",
      "get\n",
      "time\n",
      "recommend\n",
      "-------------------\n"
     ]
    }
   ],
   "source": [
    "# Check Keyword For Overall Clustering Model\n",
    "print(\"Cluster centroids: \\n\")\n",
    "Cluster = model_overall.cluster_centers_.argsort()[:, ::-1]\n",
    "Gain_Keywords = vectorizer_overall.get_feature_names_out()  # Set a function to gain keyword from cluster\n",
    "\n",
    "for i in range(k):\n",
    "    print(\"Cluster\",i)\n",
    "    for keyword in Cluster[i, :10]:\n",
    "        print(Gain_Keywords[keyword])\n",
    "    print('-------------------')"
   ]
  },
  {
   "cell_type": "markdown",
   "metadata": {},
   "source": [
    "Cluster 0: Positive Vibes\n",
    "Cluster 1: Worth Buying\n",
    "Cluster 2: Story & Graphics\n",
    "Cluster 3: Well-Rounded\n",
    "Cluster 4: All-Time Best\n",
    "Cluster 5: Top Picks\n",
    "Cluster 6: Long Sessions\n",
    "Cluster 7: Multiplayer Fun"
   ]
  },
  {
   "cell_type": "code",
   "execution_count": 21,
   "metadata": {},
   "outputs": [
    {
     "name": "stdout",
     "output_type": "stream",
     "text": [
      "cluster\n",
      "1    57358\n",
      "7     8035\n",
      "2     7654\n",
      "0     7653\n",
      "3     7160\n",
      "4     6027\n",
      "5     3412\n",
      "6     2701\n",
      "Name: count, dtype: int64\n"
     ]
    }
   ],
   "source": [
    "# Define a new cluster variable to store the number of clusters for each review\n",
    "df_overall['cluster'] = model_overall.labels_\n",
    "\n",
    "#Check Topic Distribution For df_overall\n",
    "print(df_overall['cluster'].value_counts())"
   ]
  },
  {
   "cell_type": "markdown",
   "metadata": {},
   "source": [
    "# Export Data"
   ]
  },
  {
   "cell_type": "code",
   "execution_count": 39,
   "metadata": {},
   "outputs": [],
   "source": [
    "# Export data as csv file (Ready for Build a Bert Model)\n",
    "df_overall.to_csv('player_reviews_100K_preprocessed_Set2.csv', index=False)"
   ]
  }
 ],
 "metadata": {
  "kernelspec": {
   "display_name": "Python 3",
   "language": "python",
   "name": "python3"
  },
  "language_info": {
   "codemirror_mode": {
    "name": "ipython",
    "version": 3
   },
   "file_extension": ".py",
   "mimetype": "text/x-python",
   "name": "python",
   "nbconvert_exporter": "python",
   "pygments_lexer": "ipython3",
   "version": "3.11.9"
  }
 },
 "nbformat": 4,
 "nbformat_minor": 2
}
